{
  "nbformat": 4,
  "nbformat_minor": 0,
  "metadata": {
    "colab": {
      "provenance": []
    },
    "kernelspec": {
      "name": "python3",
      "display_name": "Python 3"
    },
    "language_info": {
      "name": "python"
    }
  },
  "cells": [
    {
      "cell_type": "code",
      "source": [
        "import pandas as pd\n",
        "import numpy as np\n",
        "import matplotlib.pyplot as plt\n",
        "import seaborn as sns"
      ],
      "metadata": {
        "id": "y0UzeBChyiG9"
      },
      "execution_count": 28,
      "outputs": []
    },
    {
      "cell_type": "code",
      "source": [
        "# Load the CSV files\n",
        "df1 = pd.read_csv('Customers.csv')\n",
        "df2 = pd.read_csv('Products.csv')\n",
        "df3 = pd.read_csv('Transactions.csv')\n",
        "\n",
        "print(df1.head())\n",
        "print(df2.head())\n",
        "print(df3.head())"
      ],
      "metadata": {
        "colab": {
          "base_uri": "https://localhost:8080/"
        },
        "id": "g7pQCJOYz36i",
        "outputId": "d61c6d66-c05c-48fd-921a-dc49df9bbdf0"
      },
      "execution_count": 29,
      "outputs": [
        {
          "output_type": "stream",
          "name": "stdout",
          "text": [
            "  CustomerID        CustomerName         Region  SignupDate\n",
            "0      C0001    Lawrence Carroll  South America  2022-07-10\n",
            "1      C0002      Elizabeth Lutz           Asia  2022-02-13\n",
            "2      C0003      Michael Rivera  South America  2024-03-07\n",
            "3      C0004  Kathleen Rodriguez  South America  2022-10-09\n",
            "4      C0005         Laura Weber           Asia  2022-08-15\n",
            "  ProductID              ProductName     Category   Price\n",
            "0      P001     ActiveWear Biography        Books  169.30\n",
            "1      P002    ActiveWear Smartwatch  Electronics  346.30\n",
            "2      P003  ComfortLiving Biography        Books   44.12\n",
            "3      P004            BookWorld Rug   Home Decor   95.69\n",
            "4      P005          TechPro T-Shirt     Clothing  429.31\n",
            "  TransactionID CustomerID ProductID      TransactionDate  Quantity  \\\n",
            "0        T00001      C0199      P067  2024-08-25 12:38:23         1   \n",
            "1        T00112      C0146      P067  2024-05-27 22:23:54         1   \n",
            "2        T00166      C0127      P067   2024-04-25 7:38:55         1   \n",
            "3        T00272      C0087      P067  2024-03-26 22:55:37         2   \n",
            "4        T00363      C0070      P067  2024-03-21 15:10:10         3   \n",
            "\n",
            "   TotalValue   Price  \n",
            "0      300.68  300.68  \n",
            "1      300.68  300.68  \n",
            "2      300.68  300.68  \n",
            "3      601.36  300.68  \n",
            "4      902.04  300.68  \n"
          ]
        }
      ]
    },
    {
      "cell_type": "code",
      "source": [
        "print('df1 number of rows and columns: ', df1.shape)\n",
        "print('df2 number of rows and columns: ', df2.shape)\n",
        "print('df3 number of rows and columns: ', df3.shape)"
      ],
      "metadata": {
        "colab": {
          "base_uri": "https://localhost:8080/"
        },
        "id": "1oxAceJm1OOY",
        "outputId": "de77f00c-04e5-47a2-da96-6596a744819f"
      },
      "execution_count": 30,
      "outputs": [
        {
          "output_type": "stream",
          "name": "stdout",
          "text": [
            "df1 number of rows and columns:  (200, 4)\n",
            "df2 number of rows and columns:  (100, 4)\n",
            "df3 number of rows and columns:  (1000, 7)\n"
          ]
        }
      ]
    },
    {
      "cell_type": "code",
      "source": [
        "# Merge dataframes on a common column\n",
        "merged_df = pd.merge(df1, df3, on='CustomerID')\n",
        "merged_df = pd.merge(merged_df, df2, on='ProductID')\n",
        "\n",
        "# Check the merged data\n",
        "print(merged_df.info())\n"
      ],
      "metadata": {
        "colab": {
          "base_uri": "https://localhost:8080/"
        },
        "id": "7g2XtCKG0J6y",
        "outputId": "beecb7c3-3cbe-4b1d-9b7b-2753736342d3"
      },
      "execution_count": 31,
      "outputs": [
        {
          "output_type": "stream",
          "name": "stdout",
          "text": [
            "<class 'pandas.core.frame.DataFrame'>\n",
            "RangeIndex: 1000 entries, 0 to 999\n",
            "Data columns (total 13 columns):\n",
            " #   Column           Non-Null Count  Dtype  \n",
            "---  ------           --------------  -----  \n",
            " 0   CustomerID       1000 non-null   object \n",
            " 1   CustomerName     1000 non-null   object \n",
            " 2   Region           1000 non-null   object \n",
            " 3   SignupDate       1000 non-null   object \n",
            " 4   TransactionID    1000 non-null   object \n",
            " 5   ProductID        1000 non-null   object \n",
            " 6   TransactionDate  1000 non-null   object \n",
            " 7   Quantity         1000 non-null   int64  \n",
            " 8   TotalValue       1000 non-null   float64\n",
            " 9   Price_x          1000 non-null   float64\n",
            " 10  ProductName      1000 non-null   object \n",
            " 11  Category         1000 non-null   object \n",
            " 12  Price_y          1000 non-null   float64\n",
            "dtypes: float64(3), int64(1), object(9)\n",
            "memory usage: 101.7+ KB\n",
            "None\n"
          ]
        }
      ]
    },
    {
      "cell_type": "code",
      "source": [
        "print(merged_df.describe())"
      ],
      "metadata": {
        "colab": {
          "base_uri": "https://localhost:8080/"
        },
        "id": "ETgi3JfH4BEo",
        "outputId": "5cbbbf29-0fa7-46e3-d9da-295710827b78"
      },
      "execution_count": 32,
      "outputs": [
        {
          "output_type": "stream",
          "name": "stdout",
          "text": [
            "          Quantity   TotalValue     Price_x     Price_y\n",
            "count  1000.000000  1000.000000  1000.00000  1000.00000\n",
            "mean      2.537000   689.995560   272.55407   272.55407\n",
            "std       1.117981   493.144478   140.73639   140.73639\n",
            "min       1.000000    16.080000    16.08000    16.08000\n",
            "25%       2.000000   295.295000   147.95000   147.95000\n",
            "50%       3.000000   588.880000   299.93000   299.93000\n",
            "75%       4.000000  1011.660000   404.40000   404.40000\n",
            "max       4.000000  1991.040000   497.76000   497.76000\n"
          ]
        }
      ]
    },
    {
      "cell_type": "code",
      "source": [
        "print(merged_df.info())"
      ],
      "metadata": {
        "colab": {
          "base_uri": "https://localhost:8080/"
        },
        "id": "LEd8mLyg4PTb",
        "outputId": "e33172d1-27ce-46ce-9e04-e1de8e114d56"
      },
      "execution_count": 33,
      "outputs": [
        {
          "output_type": "stream",
          "name": "stdout",
          "text": [
            "<class 'pandas.core.frame.DataFrame'>\n",
            "RangeIndex: 1000 entries, 0 to 999\n",
            "Data columns (total 13 columns):\n",
            " #   Column           Non-Null Count  Dtype  \n",
            "---  ------           --------------  -----  \n",
            " 0   CustomerID       1000 non-null   object \n",
            " 1   CustomerName     1000 non-null   object \n",
            " 2   Region           1000 non-null   object \n",
            " 3   SignupDate       1000 non-null   object \n",
            " 4   TransactionID    1000 non-null   object \n",
            " 5   ProductID        1000 non-null   object \n",
            " 6   TransactionDate  1000 non-null   object \n",
            " 7   Quantity         1000 non-null   int64  \n",
            " 8   TotalValue       1000 non-null   float64\n",
            " 9   Price_x          1000 non-null   float64\n",
            " 10  ProductName      1000 non-null   object \n",
            " 11  Category         1000 non-null   object \n",
            " 12  Price_y          1000 non-null   float64\n",
            "dtypes: float64(3), int64(1), object(9)\n",
            "memory usage: 101.7+ KB\n",
            "None\n"
          ]
        }
      ]
    },
    {
      "cell_type": "code",
      "source": [
        "# Check for missing values\n",
        "print(merged_df.isnull().sum())\n"
      ],
      "metadata": {
        "colab": {
          "base_uri": "https://localhost:8080/"
        },
        "id": "_COFcgx21HHm",
        "outputId": "d7b912ff-3232-4690-ba5c-7f609d582e5a"
      },
      "execution_count": 34,
      "outputs": [
        {
          "output_type": "stream",
          "name": "stdout",
          "text": [
            "CustomerID         0\n",
            "CustomerName       0\n",
            "Region             0\n",
            "SignupDate         0\n",
            "TransactionID      0\n",
            "ProductID          0\n",
            "TransactionDate    0\n",
            "Quantity           0\n",
            "TotalValue         0\n",
            "Price_x            0\n",
            "ProductName        0\n",
            "Category           0\n",
            "Price_y            0\n",
            "dtype: int64\n"
          ]
        }
      ]
    },
    {
      "cell_type": "code",
      "source": [
        "# Summary statistics\n",
        "print(merged_df.describe())"
      ],
      "metadata": {
        "colab": {
          "base_uri": "https://localhost:8080/"
        },
        "id": "WTJeGL5H12Oh",
        "outputId": "95f52329-fee4-4126-8888-259ce98c2869"
      },
      "execution_count": 35,
      "outputs": [
        {
          "output_type": "stream",
          "name": "stdout",
          "text": [
            "          Quantity   TotalValue     Price_x     Price_y\n",
            "count  1000.000000  1000.000000  1000.00000  1000.00000\n",
            "mean      2.537000   689.995560   272.55407   272.55407\n",
            "std       1.117981   493.144478   140.73639   140.73639\n",
            "min       1.000000    16.080000    16.08000    16.08000\n",
            "25%       2.000000   295.295000   147.95000   147.95000\n",
            "50%       3.000000   588.880000   299.93000   299.93000\n",
            "75%       4.000000  1011.660000   404.40000   404.40000\n",
            "max       4.000000  1991.040000   497.76000   497.76000\n"
          ]
        }
      ]
    },
    {
      "cell_type": "code",
      "source": [
        "# Data types\n",
        "print(merged_df.dtypes)"
      ],
      "metadata": {
        "colab": {
          "base_uri": "https://localhost:8080/"
        },
        "id": "elbZ41hr17zC",
        "outputId": "29517650-b9d4-4647-af8e-6e3391946b43"
      },
      "execution_count": 36,
      "outputs": [
        {
          "output_type": "stream",
          "name": "stdout",
          "text": [
            "CustomerID          object\n",
            "CustomerName        object\n",
            "Region              object\n",
            "SignupDate          object\n",
            "TransactionID       object\n",
            "ProductID           object\n",
            "TransactionDate     object\n",
            "Quantity             int64\n",
            "TotalValue         float64\n",
            "Price_x            float64\n",
            "ProductName         object\n",
            "Category            object\n",
            "Price_y            float64\n",
            "dtype: object\n"
          ]
        }
      ]
    },
    {
      "cell_type": "code",
      "source": [
        "# Distribution of Transaction price Price_y variable\n",
        "sns.countplot(data=merged_df, x='Price_y')"
      ],
      "metadata": {
        "colab": {
          "base_uri": "https://localhost:8080/",
          "height": 468
        },
        "id": "deuKW1gt2A9c",
        "outputId": "d1e1cf4f-c1d0-4928-acee-d6576bf88005"
      },
      "execution_count": 37,
      "outputs": [
        {
          "output_type": "execute_result",
          "data": {
            "text/plain": [
              "<Axes: xlabel='Price_y', ylabel='count'>"
            ]
          },
          "metadata": {},
          "execution_count": 37
        },
        {
          "output_type": "display_data",
          "data": {
            "text/plain": [
              "<Figure size 640x480 with 1 Axes>"
            ],
            "image/png": "[encoded data removed]"
          },
          "metadata": {}
        }
      ]
    },
    {
      "cell_type": "code",
      "source": [
        "correlation_matrix = merged_df.corr(numeric_only=True)\n",
        "print(correlation_matrix)"
      ],
      "metadata": {
        "colab": {
          "base_uri": "https://localhost:8080/"
        },
        "id": "5nc_g88g3tqF",
        "outputId": "c77e2bd6-87f0-4635-94de-d7dbd2f86bbb"
      },
      "execution_count": 38,
      "outputs": [
        {
          "output_type": "stream",
          "name": "stdout",
          "text": [
            "            Quantity  TotalValue   Price_x   Price_y\n",
            "Quantity    1.000000    0.609972 -0.009378 -0.009378\n",
            "TotalValue  0.609972    1.000000  0.722714  0.722714\n",
            "Price_x    -0.009378    0.722714  1.000000  1.000000\n",
            "Price_y    -0.009378    0.722714  1.000000  1.000000\n"
          ]
        }
      ]
    },
    {
      "cell_type": "code",
      "source": [
        "# Correlation heatmap\n",
        "numerical_df = merged_df.select_dtypes(include=np.number)\n",
        "plt.figure(figsize=(10, 8))\n",
        "sns.heatmap(numerical_df.corr(), annot=True, cmap='coolwarm')\n",
        "plt.title('Correlation Heatmap')\n",
        "plt.show()"
      ],
      "metadata": {
        "colab": {
          "base_uri": "https://localhost:8080/",
          "height": 699
        },
        "id": "bWRY_Rzu2-wv",
        "outputId": "e0f6a0c4-8c41-4256-ffb1-b22342fc6e82"
      },
      "execution_count": 39,
      "outputs": [
        {
          "output_type": "display_data",
          "data": {
            "text/plain": [
              "<Figure size 1000x800 with 2 Axes>"
            ],
            "image/png": "[encoded data removed]"
          },
          "metadata": {}
        }
      ]
    },
    {
      "cell_type": "code",
      "source": [],
      "metadata": {
        "id": "eOdOLOlT3pyT"
      },
      "execution_count": null,
      "outputs": []
    }
  ]
}